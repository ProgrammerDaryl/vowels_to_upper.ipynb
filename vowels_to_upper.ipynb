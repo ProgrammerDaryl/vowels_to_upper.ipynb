{
 "cells": [
  {
   "cell_type": "code",
   "execution_count": null,
   "metadata": {},
   "outputs": [],
   "source": [
    "def vowelsToUpper(words):\n",
    "    # list the vowels\n",
    "    vowels = \"aeiou\"\n",
    "    # create an empty list for the output\n",
    "    uppercased_vowels = []\n",
    "    for letter in words:\n",
    "        if letter.lower() in vowels:\n",
    "            uppercased_vowels += letter.upper\n"
   ]
  }
 ],
 "metadata": {
  "language_info": {
   "name": "python"
  }
 },
 "nbformat": 4,
 "nbformat_minor": 2
}
