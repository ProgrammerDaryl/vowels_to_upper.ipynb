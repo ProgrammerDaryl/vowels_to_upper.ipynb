{
 "cells": [
  {
   "cell_type": "code",
   "execution_count": 1,
   "metadata": {},
   "outputs": [
    {
     "name": "stdout",
     "output_type": "stream",
     "text": [
      "vowelsToUpper \"Supernova And Armageddon\" == \"SUpErnOvA And ArmAgEddOn\"\n"
     ]
    }
   ],
   "source": [
    "def vowelsToUpper(words):\n",
    "    # list the vowels\n",
    "    vowels = \"aeiou\"\n",
    "    uppercased_vowels = \"\"\n",
    "    for letter in words:\n",
    "        if letter.lower() in vowels:\n",
    "            # convert vowels into uppercase\n",
    "            uppercased_vowels += letter.upper() \n",
    "        else:\n",
    "            # will stay as is\n",
    "            uppercased_vowels += letter\n",
    "    return uppercased_vowels\n",
    "    \n",
    "text = input(\"Please enter a text here: \")\n",
    "uppercased_text = vowelsToUpper(text)\n",
    "print(\"vowelsToUpper\", f'\"{text}\"', \"==\", f'\"{uppercased_text}\"')\n",
    "\n"
   ]
  }
 ],
 "metadata": {
  "kernelspec": {
   "display_name": "Python 3",
   "language": "python",
   "name": "python3"
  },
  "language_info": {
   "codemirror_mode": {
    "name": "ipython",
    "version": 3
   },
   "file_extension": ".py",
   "mimetype": "text/x-python",
   "name": "python",
   "nbconvert_exporter": "python",
   "pygments_lexer": "ipython3",
   "version": "3.11.9"
  }
 },
 "nbformat": 4,
 "nbformat_minor": 2
}
